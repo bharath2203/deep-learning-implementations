{
 "cells": [
  {
   "cell_type": "code",
   "execution_count": 4,
   "metadata": {},
   "outputs": [],
   "source": [
    "# import IMDB data set\n",
    "\n",
    "import numpy as np\n",
    "# save np.load\n",
    "np_load_old = np.load\n",
    "\n",
    "# modify the default parameters of np.load\n",
    "np.load = lambda *a,**k: np_load_old(*a, allow_pickle=True, **k)\n",
    "\n",
    "from keras.datasets import imdb\n",
    "(train_data, train_labels), (test_data, test_labels) = imdb.load_data(num_words=10000)\n",
    "\n",
    "# get np.load back\n",
    "np.load = np_load_old"
   ]
  },
  {
   "cell_type": "code",
   "execution_count": 14,
   "metadata": {},
   "outputs": [
    {
     "name": "stdout",
     "output_type": "stream",
     "text": [
      "(25000,)\n",
      "(25000,)\n",
      "? this film was just brilliant casting location scenery story direction everyone's really suited the part they played and you could just imagine being there robert ? is an amazing actor and now the same being director ? father came from the same scottish island as myself so i loved the fact there was a real connection with this film the witty remarks throughout the film were great it was just brilliant so much that i bought the film as soon as it was released for ? and would recommend it to everyone to watch and the fly fishing was amazing really cried at the end it was so sad and you know what they say if you cry at a film it must have been good and this definitely was also ? to the two little boy's that played the ? of norman and paul they were just brilliant children are often left out of the ? list i think because the stars that play them all grown up are such a big profile for the whole film but these children are amazing and should be praised for what they have done don't you think the whole story was so lovely because it was true and was someone's life after all that was shared with us all\n"
     ]
    }
   ],
   "source": [
    "import random\n",
    "\n",
    "print(train_data.shape)\n",
    "print(train_labels.shape)\n",
    "\n",
    "\n",
    "# lets revert one interger array back to review\n",
    "\n",
    "word_index = imdb.get_word_index()\n",
    "reversed_word_index = dict([(value, key) for (key, value) in word_index.items()])\n",
    "print(' '.join([reversed_word_index.get(num - 3, '?') for num in train_data[0]]))\n",
    "    \n"
   ]
  },
  {
   "cell_type": "code",
   "execution_count": 36,
   "metadata": {},
   "outputs": [],
   "source": [
    "def vectorize_sequence(sequence, dimension=10000):\n",
    "    results = np.zeros((len(sequence), dimension))\n",
    "    for i, sequence in enumerate(sequence):\n",
    "        results[i, sequence] = 1\n",
    "    return results\n",
    "\n",
    "X_train = vectorize_sequence(train_data)\n",
    "X_test = vectorize_sequence(test_data)\n",
    "\n",
    "y_train = np.asarray(train_labels).astype('float32')\n",
    "y_test = np.asarray(test_labels).astype('float32')"
   ]
  },
  {
   "cell_type": "code",
   "execution_count": 37,
   "metadata": {},
   "outputs": [
    {
     "name": "stdout",
     "output_type": "stream",
     "text": [
      "_________________________________________________________________\n",
      "Layer (type)                 Output Shape              Param #   \n",
      "=================================================================\n",
      "dense_10 (Dense)             (None, 16)                160016    \n",
      "_________________________________________________________________\n",
      "dense_11 (Dense)             (None, 16)                272       \n",
      "_________________________________________________________________\n",
      "dense_12 (Dense)             (None, 1)                 17        \n",
      "=================================================================\n",
      "Total params: 160,305\n",
      "Trainable params: 160,305\n",
      "Non-trainable params: 0\n",
      "_________________________________________________________________\n"
     ]
    }
   ],
   "source": [
    "from keras import layers\n",
    "from keras import models\n",
    "\n",
    "model = models.Sequential()\n",
    "model.add(layers.Dense(16, input_shape=(10000, ), activation='relu'))\n",
    "model.add(layers.Dense(16, activation='relu'))\n",
    "model.add(layers.Dense(1, activation='sigmoid'))\n",
    "\n",
    "# Compile the model\n",
    "model.compile(\n",
    "    optimizer='rmsprop',\n",
    "    loss='binary_crossentropy',\n",
    "    metrics=['accuracy']\n",
    ")\n",
    "\n",
    "model.summary()"
   ]
  },
  {
   "cell_type": "code",
   "execution_count": 38,
   "metadata": {},
   "outputs": [
    {
     "name": "stdout",
     "output_type": "stream",
     "text": [
      "Train on 15000 samples, validate on 10000 samples\n",
      "Epoch 1/20\n",
      "15000/15000 [==============================] - 7s 485us/step - loss: 0.5340 - acc: 0.7874 - val_loss: 0.4141 - val_acc: 0.8578\n",
      "Epoch 2/20\n",
      "15000/15000 [==============================] - 3s 210us/step - loss: 0.3285 - acc: 0.8995 - val_loss: 0.3164 - val_acc: 0.8873\n",
      "Epoch 3/20\n",
      "15000/15000 [==============================] - 3s 177us/step - loss: 0.2330 - acc: 0.9241 - val_loss: 0.2976 - val_acc: 0.8852\n",
      "Epoch 4/20\n",
      "15000/15000 [==============================] - 3s 175us/step - loss: 0.1851 - acc: 0.9379 - val_loss: 0.2928 - val_acc: 0.8830\n",
      "Epoch 5/20\n",
      "15000/15000 [==============================] - 3s 175us/step - loss: 0.1510 - acc: 0.9529 - val_loss: 0.2800 - val_acc: 0.8886\n",
      "Epoch 6/20\n",
      "15000/15000 [==============================] - 3s 186us/step - loss: 0.1268 - acc: 0.9603 - val_loss: 0.2904 - val_acc: 0.8880\n",
      "Epoch 7/20\n",
      "15000/15000 [==============================] - 3s 211us/step - loss: 0.1040 - acc: 0.9701 - val_loss: 0.3012 - val_acc: 0.8860\n",
      "Epoch 8/20\n",
      "15000/15000 [==============================] - 3s 179us/step - loss: 0.0905 - acc: 0.9735 - val_loss: 0.3202 - val_acc: 0.8835\n",
      "Epoch 9/20\n",
      "15000/15000 [==============================] - 3s 174us/step - loss: 0.0727 - acc: 0.9800 - val_loss: 0.3438 - val_acc: 0.8788\n",
      "Epoch 10/20\n",
      "15000/15000 [==============================] - 3s 200us/step - loss: 0.0616 - acc: 0.9843 - val_loss: 0.3686 - val_acc: 0.8761\n",
      "Epoch 11/20\n",
      "15000/15000 [==============================] - 3s 188us/step - loss: 0.0542 - acc: 0.9866 - val_loss: 0.3912 - val_acc: 0.8795\n",
      "Epoch 12/20\n",
      "15000/15000 [==============================] - 3s 173us/step - loss: 0.0407 - acc: 0.9907 - val_loss: 0.4157 - val_acc: 0.8779\n",
      "Epoch 13/20\n",
      "15000/15000 [==============================] - 3s 174us/step - loss: 0.0351 - acc: 0.9928 - val_loss: 0.4537 - val_acc: 0.8678\n",
      "Epoch 14/20\n",
      "15000/15000 [==============================] - 3s 225us/step - loss: 0.0287 - acc: 0.9945 - val_loss: 0.4746 - val_acc: 0.8720\n",
      "Epoch 15/20\n",
      "15000/15000 [==============================] - 3s 176us/step - loss: 0.0218 - acc: 0.9970 - val_loss: 0.5319 - val_acc: 0.8627\n",
      "Epoch 16/20\n",
      "15000/15000 [==============================] - 3s 173us/step - loss: 0.0204 - acc: 0.9969 - val_loss: 0.5464 - val_acc: 0.8719\n",
      "Epoch 17/20\n",
      "15000/15000 [==============================] - 3s 175us/step - loss: 0.0120 - acc: 0.9990 - val_loss: 0.5716 - val_acc: 0.8712\n",
      "Epoch 18/20\n",
      "15000/15000 [==============================] - 3s 202us/step - loss: 0.0125 - acc: 0.9987 - val_loss: 0.5973 - val_acc: 0.8701\n",
      "Epoch 19/20\n",
      "15000/15000 [==============================] - 3s 187us/step - loss: 0.0099 - acc: 0.9989 - val_loss: 0.6287 - val_acc: 0.8692\n",
      "Epoch 20/20\n",
      "15000/15000 [==============================] - 3s 199us/step - loss: 0.0091 - acc: 0.9987 - val_loss: 0.6607 - val_acc: 0.8663\n"
     ]
    }
   ],
   "source": [
    "# Create 10000 validation data from train_data\n",
    "X_train_val = X_train[:10000]\n",
    "X_train = X_train[10000:]\n",
    "y_train_val = y_train[:10000]\n",
    "y_train = y_train[10000:]\n",
    "\n",
    "# Train model using fit method\n",
    "history = model.fit(\n",
    "    X_train,\n",
    "    y_train,\n",
    "    epochs=20,\n",
    "    batch_size=512,\n",
    "    validation_data=(X_train_val, y_train_val)\n",
    ")"
   ]
  },
  {
   "cell_type": "code",
   "execution_count": 39,
   "metadata": {},
   "outputs": [
    {
     "data": {
      "image/png": "[encoded data removed]",
      "text/plain": [
       "<Figure size 432x288 with 1 Axes>"
      ]
     },
     "metadata": {
      "needs_background": "light"
     },
     "output_type": "display_data"
    }
   ],
   "source": [
    "history_dict = history.history\n",
    "\n",
    "# Plot Loss of training versus Validation\n",
    "import matplotlib.pyplot as plt\n",
    "train_loss = history_dict['loss']\n",
    "validation_loss = history_dict['val_loss']\n",
    "epochs = range(1, len(history_dict['acc']) + 1)\n",
    "\n",
    "plt.plot(epochs, train_loss, 'bo', label='Training Loss')\n",
    "plt.plot(epochs, validation_loss, 'b', label='Validation Loss')\n",
    "plt.title('Training and Validation Loss')\n",
    "plt.xlabel('Epochs')\n",
    "plt.ylabel('Loss')\n",
    "plt.legend()\n",
    "\n",
    "plt.show()\n"
   ]
  },
  {
   "cell_type": "code",
   "execution_count": 40,
   "metadata": {},
   "outputs": [
    {
     "data": {
      "image/png": "[encoded data removed]",
      "text/plain": [
       "<Figure size 432x288 with 1 Axes>"
      ]
     },
     "metadata": {
      "needs_background": "light"
     },
     "output_type": "display_data"
    }
   ],
   "source": [
    "plt.clf()\n",
    "\n",
    "# Plot accuracy values\n",
    "\n",
    "train_acc = history_dict['acc']\n",
    "validation_acc = history_dict['val_acc']\n",
    "epochs = range(1, len(train_acc) + 1)\n",
    "\n",
    "plt.plot(epochs, train_acc, 'bo', label='Training Accuracy')\n",
    "plt.plot(epochs, validation_acc, 'b', label='Validation Accuracy')\n",
    "plt.title('Training and Validation Accuracy')\n",
    "plt.xlabel('Epochs')\n",
    "plt.ylabel('Accuracy')\n",
    "plt.legend()\n",
    "\n",
    "plt.show()\n"
   ]
  },
  {
   "cell_type": "code",
   "execution_count": 42,
   "metadata": {},
   "outputs": [
    {
     "name": "stdout",
     "output_type": "stream",
     "text": [
      "25000/25000 [==============================] - 3s 139us/step\n",
      "[0.7286522569584847, 0.84948]\n"
     ]
    }
   ],
   "source": [
    "# Evaluate model with test data\n",
    "\n",
    "results = model.evaluate(X_test, y_test)\n",
    "print(results)"
   ]
  },
  {
   "cell_type": "code",
   "execution_count": null,
   "metadata": {},
   "outputs": [],
   "source": []
  }
 ],
 "metadata": {
  "kernelspec": {
   "display_name": "Python 3",
   "language": "python",
   "name": "python3"
  },
  "language_info": {
   "codemirror_mode": {
    "name": "ipython",
    "version": 3
   },
   "file_extension": ".py",
   "mimetype": "text/x-python",
   "name": "python",
   "nbconvert_exporter": "python",
   "pygments_lexer": "ipython3",
   "version": "3.6.8"
  }
 },
 "nbformat": 4,
 "nbformat_minor": 4
}
